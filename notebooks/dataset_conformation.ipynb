{
 "cells": [
  {
   "cell_type": "markdown",
   "metadata": {},
   "source": [
    "# Conformación dataset"
   ]
  },
  {
   "cell_type": "code",
   "execution_count": 5,
   "metadata": {},
   "outputs": [],
   "source": [
    "import glob\n",
    "import xarray as xr\n",
    "import geopandas as gpd\n",
    "from geopandas.tools import sjoin"
   ]
  },
  {
   "cell_type": "code",
   "execution_count": 6,
   "metadata": {},
   "outputs": [],
   "source": [
    "# Ruta al archivo shape\n",
    "shapefile_path = \"../shapes/shape_boyaca_municipios.shp\"\n",
    "\n",
    "# Carpeta que contiene los archivos .nc (Descargando usando el notebook 1.get_data.ipynb)\n",
    "nc_folder_path = \"..data/archivos_climate_serv/\"\n",
    "\n",
    "# Cargar el archivo shape\n",
    "gdf = gpd.read_file(shapefile_path)\n",
    "\n",
    "# Obtener las coordenadas extremas iniciales\n",
    "min_latitude = float('inf')\n",
    "max_latitude = float('-inf')\n",
    "min_longitude = float('inf')\n",
    "max_longitude = float('-inf')\n",
    "\n",
    "# Iterar sobre los polígonos del archivo shape\n",
    "for i, geometry in enumerate(gdf.geometry):\n",
    "    # Obtener los límites de latitud y longitud del polígono actual\n",
    "    polygon_bounds = geometry.bounds\n",
    "    \n",
    "    # Actualizar los valores máximos y mínimos de latitud y longitud\n",
    "    min_latitude = min(min_latitude, polygon_bounds[1])\n",
    "    max_latitude = max(max_latitude, polygon_bounds[3])\n",
    "    min_longitude = min(min_longitude, polygon_bounds[0])\n",
    "    max_longitude = max(max_longitude, polygon_bounds[2])\n",
    "\n",
    "# min_longitude -= 0.001\n",
    "# max_longitude += 0.001\n",
    "\n",
    "# Crear una lista para almacenar los datos filtrados\n",
    "filtered_datasets = []\n",
    "\n",
    "# Obtener la lista de archivos .nc en la carpeta\n",
    "nc_file_paths = glob.glob(nc_folder_path + \"*.nc\")\n",
    "\n",
    "# Iterar sobre los archivos .nc\n",
    "for nc_file_path in nc_file_paths:\n",
    "    # Leer el archivo .nc utilizando xarray\n",
    "    ds = xr.open_dataset(nc_file_path)\n",
    "    \n",
    "    # Filtrar por latitud y longitud máximas y mínimas\n",
    "    ds_filtered = ds.sel(\n",
    "        longitude=slice(min_longitude, max_longitude),\n",
    "        latitude=slice(min_latitude, max_latitude)\n",
    "    )\n",
    "    \n",
    "    # Agregar el dataset filtrado a la lista\n",
    "    filtered_datasets.append(ds_filtered)\n",
    "\n",
    "# Combinar los datasets filtrados en uno solo\n",
    "combined_dataset = xr.concat(filtered_datasets, dim=\"time\")\n",
    "\n",
    "# Ruta para guardar el archivo .nc combinado\n",
    "output_nc_path = \"../data/data_Boyaca.nc\"\n",
    "\n",
    "# Guardar el dataset combinado en un nuevo archivo .nc\n",
    "combined_dataset.to_netcdf(output_nc_path)"
   ]
  },
  {
   "cell_type": "code",
   "execution_count": 21,
   "metadata": {},
   "outputs": [],
   "source": [
    "# Cargar el archivo .nc utilizando xarray\n",
    "data_boyaca = xr.open_dataset('../data/data_Boyaca.nc')\n",
    "df_boyaca = data_boyaca.to_dataframe().reset_index()"
   ]
  },
  {
   "cell_type": "code",
   "execution_count": 22,
   "metadata": {},
   "outputs": [],
   "source": [
    "# Ruta al archivo shape\n",
    "shapefile_path = \"../shapes/shape_boyaca_municipios.shp\"\n",
    "\n",
    "# Cargar el archivo shape\n",
    "shape_boyaca_municipios = gpd.read_file(shapefile_path)"
   ]
  },
  {
   "cell_type": "code",
   "execution_count": 23,
   "metadata": {},
   "outputs": [],
   "source": [
    "gdf_boyaca = gpd.GeoDataFrame(df_boyaca, geometry=gpd.points_from_xy(df_boyaca.longitude, df_boyaca.latitude))"
   ]
  },
  {
   "cell_type": "code",
   "execution_count": 24,
   "metadata": {},
   "outputs": [],
   "source": [
    "# gdf_boyaca = gdf_boyaca.to_crs(epsg=4686)\n",
    "joined_data = sjoin(gdf_boyaca, shape_boyaca_municipios, how='left', predicate='within')"
   ]
  },
  {
   "cell_type": "code",
   "execution_count": 25,
   "metadata": {},
   "outputs": [
    {
     "data": {
      "text/html": [
       "<div>\n",
       "<style scoped>\n",
       "    .dataframe tbody tr th:only-of-type {\n",
       "        vertical-align: middle;\n",
       "    }\n",
       "\n",
       "    .dataframe tbody tr th {\n",
       "        vertical-align: top;\n",
       "    }\n",
       "\n",
       "    .dataframe thead th {\n",
       "        text-align: right;\n",
       "    }\n",
       "</style>\n",
       "<table border=\"1\" class=\"dataframe\">\n",
       "  <thead>\n",
       "    <tr style=\"text-align: right;\">\n",
       "      <th></th>\n",
       "      <th>latitude</th>\n",
       "      <th>longitude</th>\n",
       "      <th>time</th>\n",
       "      <th>precip</th>\n",
       "      <th>geometry</th>\n",
       "      <th>index_right</th>\n",
       "      <th>municipio</th>\n",
       "    </tr>\n",
       "  </thead>\n",
       "  <tbody>\n",
       "    <tr>\n",
       "      <th>0</th>\n",
       "      <td>4.674999</td>\n",
       "      <td>-74.625008</td>\n",
       "      <td>1981-01-01</td>\n",
       "      <td>4.838065</td>\n",
       "      <td>POINT (-74.62501 4.67500)</td>\n",
       "      <td>NaN</td>\n",
       "      <td>NaN</td>\n",
       "    </tr>\n",
       "    <tr>\n",
       "      <th>1</th>\n",
       "      <td>4.674999</td>\n",
       "      <td>-74.625008</td>\n",
       "      <td>1981-01-02</td>\n",
       "      <td>1.995213</td>\n",
       "      <td>POINT (-74.62501 4.67500)</td>\n",
       "      <td>NaN</td>\n",
       "      <td>NaN</td>\n",
       "    </tr>\n",
       "    <tr>\n",
       "      <th>2</th>\n",
       "      <td>4.674999</td>\n",
       "      <td>-74.625008</td>\n",
       "      <td>1981-01-03</td>\n",
       "      <td>0.000000</td>\n",
       "      <td>POINT (-74.62501 4.67500)</td>\n",
       "      <td>NaN</td>\n",
       "      <td>NaN</td>\n",
       "    </tr>\n",
       "    <tr>\n",
       "      <th>3</th>\n",
       "      <td>4.674999</td>\n",
       "      <td>-74.625008</td>\n",
       "      <td>1981-01-04</td>\n",
       "      <td>0.000000</td>\n",
       "      <td>POINT (-74.62501 4.67500)</td>\n",
       "      <td>NaN</td>\n",
       "      <td>NaN</td>\n",
       "    </tr>\n",
       "    <tr>\n",
       "      <th>4</th>\n",
       "      <td>4.674999</td>\n",
       "      <td>-74.625008</td>\n",
       "      <td>1981-01-05</td>\n",
       "      <td>0.000000</td>\n",
       "      <td>POINT (-74.62501 4.67500)</td>\n",
       "      <td>NaN</td>\n",
       "      <td>NaN</td>\n",
       "    </tr>\n",
       "  </tbody>\n",
       "</table>\n",
       "</div>"
      ],
      "text/plain": [
       "   latitude  longitude       time    precip                   geometry  \\\n",
       "0  4.674999 -74.625008 1981-01-01  4.838065  POINT (-74.62501 4.67500)   \n",
       "1  4.674999 -74.625008 1981-01-02  1.995213  POINT (-74.62501 4.67500)   \n",
       "2  4.674999 -74.625008 1981-01-03  0.000000  POINT (-74.62501 4.67500)   \n",
       "3  4.674999 -74.625008 1981-01-04  0.000000  POINT (-74.62501 4.67500)   \n",
       "4  4.674999 -74.625008 1981-01-05  0.000000  POINT (-74.62501 4.67500)   \n",
       "\n",
       "   index_right municipio  \n",
       "0          NaN       NaN  \n",
       "1          NaN       NaN  \n",
       "2          NaN       NaN  \n",
       "3          NaN       NaN  \n",
       "4          NaN       NaN  "
      ]
     },
     "execution_count": 25,
     "metadata": {},
     "output_type": "execute_result"
    }
   ],
   "source": [
    "joined_data.head()"
   ]
  },
  {
   "cell_type": "code",
   "execution_count": 26,
   "metadata": {},
   "outputs": [],
   "source": [
    "# Valores nulo\n",
    "joined_data_null = joined_data[joined_data['municipio'].isnull()]\n",
    "\n",
    "# valores no nulos\n",
    "joined_data_not_null = joined_data[joined_data['municipio'].notnull()]"
   ]
  },
  {
   "cell_type": "code",
   "execution_count": 27,
   "metadata": {},
   "outputs": [
    {
     "data": {
      "text/plain": [
       "((27635944, 7), (11773160, 7), (39409104, 7))"
      ]
     },
     "execution_count": 27,
     "metadata": {},
     "output_type": "execute_result"
    }
   ],
   "source": [
    "joined_data_null.shape, joined_data_not_null.shape, joined_data.shape"
   ]
  },
  {
   "cell_type": "code",
   "execution_count": 28,
   "metadata": {},
   "outputs": [
    {
     "data": {
      "text/html": [
       "<div>\n",
       "<style scoped>\n",
       "    .dataframe tbody tr th:only-of-type {\n",
       "        vertical-align: middle;\n",
       "    }\n",
       "\n",
       "    .dataframe tbody tr th {\n",
       "        vertical-align: top;\n",
       "    }\n",
       "\n",
       "    .dataframe thead th {\n",
       "        text-align: right;\n",
       "    }\n",
       "</style>\n",
       "<table border=\"1\" class=\"dataframe\">\n",
       "  <thead>\n",
       "    <tr style=\"text-align: right;\">\n",
       "      <th></th>\n",
       "      <th>latitude</th>\n",
       "      <th>longitude</th>\n",
       "      <th>time</th>\n",
       "      <th>precip</th>\n",
       "      <th>geometry</th>\n",
       "      <th>index_right</th>\n",
       "      <th>municipio</th>\n",
       "    </tr>\n",
       "  </thead>\n",
       "  <tbody>\n",
       "    <tr>\n",
       "      <th>4499340</th>\n",
       "      <td>4.924999</td>\n",
       "      <td>-73.375008</td>\n",
       "      <td>2000-01-12</td>\n",
       "      <td>0.0</td>\n",
       "      <td>POINT (-73.37501 4.92500)</td>\n",
       "      <td>29.0</td>\n",
       "      <td>Macanal</td>\n",
       "    </tr>\n",
       "  </tbody>\n",
       "</table>\n",
       "</div>"
      ],
      "text/plain": [
       "         latitude  longitude       time  precip                   geometry  \\\n",
       "4499340  4.924999 -73.375008 2000-01-12     0.0  POINT (-73.37501 4.92500)   \n",
       "\n",
       "         index_right municipio  \n",
       "4499340         29.0   Macanal  "
      ]
     },
     "execution_count": 28,
     "metadata": {},
     "output_type": "execute_result"
    }
   ],
   "source": [
    "joined_data_not_null.sample()"
   ]
  },
  {
   "cell_type": "code",
   "execution_count": 29,
   "metadata": {},
   "outputs": [
    {
     "name": "stderr",
     "output_type": "stream",
     "text": [
      "C:\\Users\\BPS-EYDUARTE\\AppData\\Local\\Temp\\ipykernel_18880\\877626945.py:2: SettingWithCopyWarning: \n",
      "A value is trying to be set on a copy of a slice from a DataFrame\n",
      "\n",
      "See the caveats in the documentation: https://pandas.pydata.org/pandas-docs/stable/user_guide/indexing.html#returning-a-view-versus-a-copy\n",
      "  joined_data_not_null.drop(columns=['index_right', 'geometry'], inplace=True)\n"
     ]
    }
   ],
   "source": [
    "# Eliminar la columna index_right y geometry\n",
    "joined_data_not_null.drop(columns=['index_right', 'geometry'], inplace=True)"
   ]
  },
  {
   "cell_type": "code",
   "execution_count": 16,
   "metadata": {},
   "outputs": [],
   "source": [
    "# Exportar a csv los datos no nulos\n",
    "joined_data_not_null.to_csv('../data/data_boyaca.csv', index=False)"
   ]
  },
  {
   "cell_type": "code",
   "execution_count": 30,
   "metadata": {},
   "outputs": [],
   "source": [
    "# Exportar a .nc el dataset\n",
    "ds = xr.Dataset.from_dataframe(joined_data_not_null)\n",
    "\n",
    "file_nc = \"../data/data_boyaca_municipios.nc\"\n",
    "\n",
    "ds.to_netcdf(file_nc)"
   ]
  }
 ],
 "metadata": {
  "kernelspec": {
   "display_name": "base",
   "language": "python",
   "name": "python3"
  },
  "language_info": {
   "codemirror_mode": {
    "name": "ipython",
    "version": 3
   },
   "file_extension": ".py",
   "mimetype": "text/x-python",
   "name": "python",
   "nbconvert_exporter": "python",
   "pygments_lexer": "ipython3",
   "version": "3.10.9"
  },
  "orig_nbformat": 4
 },
 "nbformat": 4,
 "nbformat_minor": 2
}
