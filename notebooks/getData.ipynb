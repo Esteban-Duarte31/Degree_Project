{
 "cells": [
  {
   "cell_type": "code",
   "execution_count": null,
   "metadata": {},
   "outputs": [],
   "source": [
    "import requests\n",
    "from bs4 import BeautifulSoup\n",
    "import os\n",
    "from tqdm import tqdm\n",
    "\n",
    "# URL base de los archivos\n",
    "base_url = \"https://data.chc.ucsb.edu/products/CHIRPS-2.0/global_daily/netcdf/p05/\"\n",
    "\n",
    "# Realizar la solicitud HTTP y obtener el contenido HTML de la página\n",
    "response = requests.get(base_url)\n",
    "html_content = response.content\n",
    "\n",
    "# Crear un objeto BeautifulSoup para analizar el contenido HTML\n",
    "soup = BeautifulSoup(html_content, \"html.parser\")\n",
    "\n",
    "# Encontrar todos los enlaces en la página\n",
    "links = soup.find_all(\"a\")\n",
    "\n",
    "# Crear una carpeta para almacenar los archivos descargados\n",
    "os.makedirs(\"../data/archivos_climate_serv\", exist_ok=True)\n",
    "\n",
    "# Iterar sobre los enlaces y descargar los archivos\n",
    "for link in tqdm(links, desc=\"Descargando archivos\"):\n",
    "    file_url = link.get(\"href\")\n",
    "\n",
    "    # Ignorar enlaces a directorios o archivos no deseados\n",
    "    if not file_url.endswith(\".nc\"):\n",
    "        continue\n",
    "\n",
    "    # Nombre del archivo para guardar localmente\n",
    "    file_name = file_url.split(\"/\")[-1]\n",
    "\n",
    "    # Ruta completa del archivo\n",
    "    file_path = os.path.join(\"../data/archivos_climate_serv\", file_name)\n",
    "\n",
    "    # Descargar el archivo\n",
    "    file_response = requests.get(base_url + file_url, stream=True)\n",
    "    with open(file_path, \"wb\") as file:\n",
    "        for chunk in file_response.iter_content(chunk_size=1024):\n",
    "            if chunk:\n",
    "                file.write(chunk)\n",
    "\n",
    "# Mostrar el mensaje de descarga completa\n",
    "print(\"Descarga completa.\")"
   ]
  }
 ],
 "metadata": {
  "kernelspec": {
   "display_name": "Python 3",
   "language": "python",
   "name": "python3"
  },
  "language_info": {
   "codemirror_mode": {
    "name": "ipython",
    "version": 3
   },
   "file_extension": ".py",
   "mimetype": "text/x-python",
   "name": "python",
   "nbconvert_exporter": "python",
   "pygments_lexer": "ipython3",
   "version": "3.10.9"
  },
  "orig_nbformat": 4
 },
 "nbformat": 4,
 "nbformat_minor": 2
}
