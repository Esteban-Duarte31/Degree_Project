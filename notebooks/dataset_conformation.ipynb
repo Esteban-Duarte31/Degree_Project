{
 "cells": [
  {
   "cell_type": "markdown",
   "metadata": {},
   "source": [
    "# Conformación dataset"
   ]
  },
  {
   "cell_type": "code",
   "execution_count": null,
   "metadata": {},
   "outputs": [],
   "source": [
    "import glob\n",
    "import xarray as xr\n",
    "import geopandas as gpd\n",
    "\n",
    "# Ruta al archivo shape\n",
    "shapefile_path = \"../shapes/shape_boyaca.shp\"\n",
    "\n",
    "# Carpeta que contiene los archivos .nc (Descargando usando el notebook 1.get_data.ipynb)\n",
    "nc_folder_path = \"../data/archivos_climate_serv/\"\n",
    "\n",
    "# Cargar el archivo shape\n",
    "gdf = gpd.read_file(shapefile_path)\n",
    "\n",
    "# Obtener las coordenadas extremas iniciales\n",
    "min_latitude = float('inf')\n",
    "max_latitude = float('-inf')\n",
    "min_longitude = float('inf')\n",
    "max_longitude = float('-inf')\n",
    "\n",
    "# Iterar sobre los polígonos del archivo shape\n",
    "for i, geometry in enumerate(gdf.geometry):\n",
    "    # Obtener los límites de latitud y longitud del polígono actual\n",
    "    polygon_bounds = geometry.bounds\n",
    "    \n",
    "    # Actualizar los valores máximos y mínimos de latitud y longitud\n",
    "    min_latitude = min(min_latitude, polygon_bounds[1])\n",
    "    max_latitude = max(max_latitude, polygon_bounds[3])\n",
    "    min_longitude = min(min_longitude, polygon_bounds[0])\n",
    "    max_longitude = max(max_longitude, polygon_bounds[2])\n",
    "\n",
    "min_longitude -= 0.001\n",
    "max_longitude += 0.001\n",
    "\n",
    "# Crear una lista para almacenar los datos filtrados\n",
    "filtered_datasets = []\n",
    "\n",
    "# Obtener la lista de archivos .nc en la carpeta\n",
    "nc_file_paths = glob.glob(nc_folder_path + \"*.nc\")\n",
    "\n",
    "# Iterar sobre los archivos .nc\n",
    "for nc_file_path in nc_file_paths:\n",
    "    # Leer el archivo .nc utilizando xarray\n",
    "    ds = xr.open_dataset(nc_file_path)\n",
    "    \n",
    "    # Filtrar por latitud y longitud máximas y mínimas\n",
    "    ds_filtered = ds.sel(\n",
    "        longitude=slice(min_longitude, max_longitude),\n",
    "        latitude=slice(min_latitude, max_latitude)\n",
    "    )\n",
    "    \n",
    "    # Agregar el dataset filtrado a la lista\n",
    "    filtered_datasets.append(ds_filtered)\n",
    "\n",
    "# Combinar los datasets filtrados en uno solo\n",
    "combined_dataset = xr.concat(filtered_datasets, dim=\"time\")\n",
    "\n",
    "# Ruta para guardar el archivo .nc combinado\n",
    "output_nc_path = \"../data/data_Boyaca.nc\"\n",
    "\n",
    "# Guardar el dataset combinado en un nuevo archivo .nc\n",
    "combined_dataset.to_netcdf(output_nc_path)"
   ]
  }
 ],
 "metadata": {
  "kernelspec": {
   "display_name": "base",
   "language": "python",
   "name": "python3"
  },
  "language_info": {
   "codemirror_mode": {
    "name": "ipython",
    "version": 3
   },
   "file_extension": ".py",
   "mimetype": "text/x-python",
   "name": "python",
   "nbconvert_exporter": "python",
   "pygments_lexer": "ipython3",
   "version": "3.11.3"
  },
  "orig_nbformat": 4
 },
 "nbformat": 4,
 "nbformat_minor": 2
}
